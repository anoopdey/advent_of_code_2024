{
 "cells": [
  {
   "cell_type": "markdown",
   "metadata": {},
   "source": [
    "For example, consider the following section of corrupted memory:\n",
    "\n",
    "xmul(2,4)%&mul[3,7]!@^do_not_mul(5,5)+mul(32,64]then(mul(11,8)mul(8,5))\n",
    "\n",
    "Only the four highlighted sections are real mul instructions. Adding up the result of each instruction produces 161 (2*4 + 5*5 + 11*8 + 8*5)."
   ]
  },
  {
   "cell_type": "code",
   "execution_count": null,
   "metadata": {},
   "outputs": [],
   "source": [
    "# Read in the file\n",
    "with open('../input_files/03_12_24_input.txt', 'r') as file:\n",
    "    input = file.read()\n",
    "\n",
    "# identify complete set of characters:\n",
    "numbers = ['0','1','2','3','4','5','6','7','8','9']\n",
    "\n",
    "# Identify indexes relevant for sum\n",
    "total = 0\n",
    "\n",
    "# Let's do this without ReGex...\n",
    "\n",
    "# Create incremental windows to identify \n",
    "for i in range(len(input)-4):\n",
    "    if input[i:i+4] == \"mul(\":\n",
    "        j=i+4\n",
    "        # Check for First Number\n",
    "        if input[j] in numbers:\n",
    "            while input[j] in numbers:\n",
    "                j+=1\n",
    "            # Check for Comma\n",
    "            if input[j] == ',':\n",
    "                k=j+1\n",
    "                # Check for Second Number\n",
    "                while input[k] in numbers:\n",
    "                    k+=1\n",
    "                if input[k] == ')':\n",
    "                    # Add to total if all conditions met\n",
    "                    total+= int(input[i+4:j])*int(input[j+1:k])\n",
    "\n",
    "print(f'Final Total: {total}')\n",
    "\n",
    "# Caveats: \n",
    "# Generalises for all digit combinations not just 1-3...\n",
    "# Doesn't use regex even though it is screaming for it\n",
    "# I don't think considers \\n for enters??"
   ]
  },
  {
   "cell_type": "markdown",
   "metadata": {},
   "source": [
    "That's the right answer! You are one gold star closer to finding the Chief Historian."
   ]
  },
  {
   "cell_type": "markdown",
   "metadata": {},
   "source": [
    "# Part Two -- \n",
    "There are two new instructions you'll need to handle:\n",
    "\n",
    "The do() instruction enables future mul instructions.\n",
    "The don't() instruction disables future mul instructions.\n",
    "Only the most recent do() or don't() instruction applies. At the beginning of the program, mul instructions are enabled.\n",
    "\n",
    "For example:\n",
    "\n",
    "xmul(2,4)&mul[3,7]!^don't()_mul(5,5)+mul(32,64](mul(11,8)undo()?mul(8,5))\n",
    "\n",
    "This corrupted memory is similar to the example from before, but this time the mul(5,5) and mul(11,8) instructions are disabled because there is a don't() instruction before them. The other mul instructions function normally, including the one at the end that gets re-enabled by a do() instruction"
   ]
  },
  {
   "cell_type": "code",
   "execution_count": null,
   "metadata": {},
   "outputs": [],
   "source": [
    "# Create incremental windows to identify \n",
    "\n",
    "total = 0\n",
    "trigger = True\n",
    "for i in range(len(input)-4):\n",
    "\n",
    "    # Check for triggers in window:\n",
    "    if \"do()\" in input[i:i+6]:\n",
    "        trigger = True\n",
    "    if \"don't()\" in input[i:i+9]:\n",
    "        trigger = False\n",
    "    \n",
    "    if input[i:i+4] == \"mul(\":\n",
    "        j=i+4\n",
    "        # Check for First Number\n",
    "        if input[j] in numbers:\n",
    "            while input[j] in numbers:\n",
    "                j+=1\n",
    "            # Check for Comma\n",
    "            if input[j] == ',':\n",
    "                k=j+1\n",
    "                # Check for Second Number\n",
    "                while input[k] in numbers:\n",
    "                    k+=1\n",
    "                if input[k] == ')':\n",
    "                    if trigger == True:\n",
    "                        total+= int(input[i+4:j])*int(input[j+1:k])\n",
    "\n",
    "print(total)"
   ]
  },
  {
   "cell_type": "markdown",
   "metadata": {},
   "source": [
    "Full disclosure... I didn't want to learn regex and hence made my own parsers above... I had a go at learning regex here for part 1... basically the key to the expression is # Using Regex expressions... \"mul\\\\(\\\\d{1,3},\\\\d{1,3}\\\\)\" - this is not so fun..."
   ]
  }
 ],
 "metadata": {
  "kernelspec": {
   "display_name": ".venv",
   "language": "python",
   "name": "python3"
  },
  "language_info": {
   "codemirror_mode": {
    "name": "ipython",
    "version": 3
   },
   "file_extension": ".py",
   "mimetype": "text/x-python",
   "name": "python",
   "nbconvert_exporter": "python",
   "pygments_lexer": "ipython3",
   "version": "3.9.6"
  }
 },
 "nbformat": 4,
 "nbformat_minor": 2
}
