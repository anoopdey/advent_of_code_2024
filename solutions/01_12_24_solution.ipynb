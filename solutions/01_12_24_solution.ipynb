{
 "cells": [
  {
   "cell_type": "markdown",
   "metadata": {},
   "source": [
    "Solution to Day 1 of AOC 2024\n",
    "\n",
    ">Save/Copy problem input into a .txt file from https://adventofcode.com/2024/day/1 \n",
    "\n",
    "Part 1 Problem Statement:\n",
    "\n",
    ">Pair up the smallest number in the left list with the smallest number in the right list, then the second-smallest left number with the second-smallest right number, and so on. Within each pair, figure out how far apart the two numbers are; you'll need to add up all of those distances."
   ]
  },
  {
   "cell_type": "code",
   "execution_count": 9,
   "metadata": {},
   "outputs": [
    {
     "name": "stdout",
     "output_type": "stream",
     "text": [
      "Length of lists match... Final Distance is:\n",
      "2769675\n"
     ]
    }
   ],
   "source": [
    "# Open the file in read mode\n",
    "with open('../input_files/01_12_24_input_1.txt', 'r') as file:\n",
    "    input = file.read()\n",
    "\n",
    "\n",
    "# Replace \"   \" with \", \" and split lines \n",
    "cleaned = input.replace(\"   \", \", \").splitlines()\n",
    "\n",
    "\n",
    "# Clean and read into two lists with elements of the list as integers\n",
    "list_1 = []\n",
    "list_2 = []\n",
    "for line in cleaned:\n",
    "    split = line.split(\", \")\n",
    "    list_1.append(int(split[0]))\n",
    "    list_2.append(int(split[1]))\n",
    "\n",
    "# Sort lists in-place...\n",
    "list_1.sort()\n",
    "list_2.sort()\n",
    "\n",
    "# Check if the length of the lists are the same \n",
    "if len(list_1) == len(list_2):\n",
    "    print(\"Length of lists match... Final Distance is:\")\n",
    "\n",
    "# Find absolute difference between each element in ordered list\n",
    "total_distance = 0\n",
    "for i in range(len(list_1)):\n",
    "    distance_i = abs(list_1[i] - list_2[i])\n",
    "    total_distance += distance_i\n",
    "\n",
    "print(total_distance)"
   ]
  },
  {
   "cell_type": "markdown",
   "metadata": {},
   "source": [
    "> The first half of this puzzle is complete! It provides one gold star: *\n",
    "\n",
    "> Part Two Problem: Calculate a total similarity score by adding up each number in the left list after multiplying it by the number of times that number appears in the right list."
   ]
  },
  {
   "cell_type": "code",
   "execution_count": 8,
   "metadata": {},
   "outputs": [
    {
     "name": "stdout",
     "output_type": "stream",
     "text": [
      "24643097\n"
     ]
    }
   ],
   "source": [
    "# Identify all values in the left list:\n",
    "set_1 = set(list_1)\n",
    "\n",
    "similarity_score = 0\n",
    "for number in set_1:\n",
    "    score_i = number*list_2.count(number)\n",
    "    similarity_score += score_i\n",
    "\n",
    "print(similarity_score)"
   ]
  },
  {
   "cell_type": "markdown",
   "metadata": {},
   "source": [
    "> That's the right answer! You are one gold star closer to finding the Chief Historian."
   ]
  }
 ],
 "metadata": {
  "kernelspec": {
   "display_name": ".venv",
   "language": "python",
   "name": "python3"
  },
  "language_info": {
   "codemirror_mode": {
    "name": "ipython",
    "version": 3
   },
   "file_extension": ".py",
   "mimetype": "text/x-python",
   "name": "python",
   "nbconvert_exporter": "python",
   "pygments_lexer": "ipython3",
   "version": "3.9.6"
  }
 },
 "nbformat": 4,
 "nbformat_minor": 2
}
