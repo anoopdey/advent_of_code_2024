{
 "cells": [
  {
   "cell_type": "markdown",
   "metadata": {},
   "source": [
    "Solution to Day 1 of AOC 2024\n",
    "\n",
    ">Save/Copy problem input into a .txt file from https://adventofcode.com/2024/day/1 \n",
    "\n",
    "Part 1 Problem Statement:\n",
    "\n",
    "The engineers are trying to figure out which reports are safe. The Red-Nosed reactor safety systems can only tolerate levels that are either gradually increasing or gradually decreasing. So, a report only counts as safe if both of the following are true:\n",
    "\n",
    "The levels are either all increasing or all decreasing.\n",
    "Any two adjacent levels differ by at least one and at most three.\n",
    "In the example above, the reports can be found safe or unsafe by checking those rules:"
   ]
  },
  {
   "cell_type": "code",
   "execution_count": null,
   "metadata": {},
   "outputs": [],
   "source": [
    "# Read and Clean File\n",
    "with open('../input_files/02_12_24_input.txt', 'r') as file:\n",
    "    input = file.read()\n",
    "\n",
    "cleaned = input.splitlines()\n",
    "\n",
    "# Function to create differences between items in list\n",
    "\n",
    "def split_line(line: str) -> list:\n",
    "    return line.split()\n",
    "\n",
    "def create_diffs(line: list) -> list:\n",
    "    line = split_line(line)\n",
    "    diffs = [int(line[i+1]) - int(line[i]) for i in range(len(line)-1)]\n",
    "    return diffs\n",
    "\n",
    "# Function to check if differences are consistently increasing/decreasing\n",
    "def check_inc_or_dec(diffs: list) -> list:\n",
    "    \n",
    "    if 0 in diffs:\n",
    "        return False\n",
    "    \n",
    "    if diffs[0] > 0:\n",
    "        for diff in diffs:\n",
    "            if diff < 0:\n",
    "                return False\n",
    "\n",
    "    if diffs[0] < 0:\n",
    "        for diff in diffs:\n",
    "            if diff > 0:\n",
    "                return False\n",
    "            \n",
    "    return True\n",
    "\n",
    "# Check that each abs(difference) is bounded between 1 and 3\n",
    "def check_bounds(diffs: list) -> list:\n",
    "    jumps = [abs(diff) for diff in diffs]\n",
    "    for jump in jumps:\n",
    "        if jump > 3 or jump < 1:\n",
    "            return False\n",
    "    return True"
   ]
  },
  {
   "cell_type": "code",
   "execution_count": null,
   "metadata": {},
   "outputs": [],
   "source": [
    "# Iterate through lines, if both conditions met, then add to counter...\n",
    "\n",
    "count = 0\n",
    "for line in cleaned:\n",
    "    diffs = create_diffs(line)\n",
    "    if check_bounds(diffs) and check_inc_or_dec(diffs):\n",
    "        count += 1\n",
    "\n",
    "print(f\"Number of safe lines: {count}\")"
   ]
  },
  {
   "cell_type": "markdown",
   "metadata": {},
   "source": [
    "The first half of this puzzle is complete! It provides one gold star: *\n",
    "\n",
    "--- Part Two ---\n",
    "\n",
    "The Problem Dampener is a reactor-mounted module that lets the reactor safety systems tolerate a single bad level in what would otherwise be a safe report. It's like the bad level never happened!\n",
    "\n",
    "Now, the same rules apply as before, except if removing a single level from an unsafe report would make it safe, the report instead counts as safe."
   ]
  },
  {
   "cell_type": "code",
   "execution_count": null,
   "metadata": {},
   "outputs": [],
   "source": [
    "# Create diffs from a list instead of a string:\n",
    "def create_diffs_from_list(line: list) -> list:\n",
    "    diffs = [int(line[i+1]) - int(line[i]) for i in range(len(line)-1)]\n",
    "    return diffs\n",
    "\n",
    "# Brute force - remove an element, if list passes conditions then \n",
    "def pass_with_problem_dampener(line: str) -> list:\n",
    "    \n",
    "    # Split line into a list\n",
    "    line = split_line(line)\n",
    "\n",
    "    # Iterate through each element in list\n",
    "    for index in range(len(line)):\n",
    "\n",
    "        # Remove indexed element\n",
    "        line_i = [line[i] for i in range(len(line)) if i != index]\n",
    "        \n",
    "        # Create difference series\n",
    "        diffs = create_diffs_from_list(line_i)\n",
    "\n",
    "        # Check if series passes original conditions\n",
    "        if check_bounds(diffs) and check_inc_or_dec(diffs):\n",
    "            return True\n",
    "        \n",
    "    # Never passed -> Failed.\n",
    "    return False"
   ]
  },
  {
   "cell_type": "code",
   "execution_count": null,
   "metadata": {},
   "outputs": [],
   "source": [
    "counter = 0\n",
    "for line in cleaned:\n",
    "    if pass_with_problem_dampener(line):\n",
    "        counter += 1\n",
    "\n",
    "print(f\"Number of Passes with Problem Dampener: {counter}\")"
   ]
  },
  {
   "cell_type": "markdown",
   "metadata": {},
   "source": [
    "That's the right answer! You are one gold star closer to finding the Chief Historian."
   ]
  }
 ],
 "metadata": {
  "kernelspec": {
   "display_name": ".venv",
   "language": "python",
   "name": "python3"
  },
  "language_info": {
   "codemirror_mode": {
    "name": "ipython",
    "version": 3
   },
   "file_extension": ".py",
   "mimetype": "text/x-python",
   "name": "python",
   "nbconvert_exporter": "python",
   "pygments_lexer": "ipython3",
   "version": "3.9.6"
  }
 },
 "nbformat": 4,
 "nbformat_minor": 2
}
